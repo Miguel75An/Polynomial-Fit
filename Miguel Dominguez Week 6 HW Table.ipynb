{
 "cells": [
  {
   "cell_type": "code",
   "execution_count": 1,
   "metadata": {
    "collapsed": true
   },
   "outputs": [],
   "source": [
    "#=========================\n",
    "#MIGUEL DOMINGUEZ\n",
    "# CSC 59929\n",
    "# Machine Learning\n",
    "# Prof. Erik K. Grimmelmann\n",
    "# Date: 10/09/17\n",
    "# Homework Week 6\n",
    "#========================="
   ]
  },
  {
   "cell_type": "code",
   "execution_count": 49,
   "metadata": {
    "collapsed": true
   },
   "outputs": [],
   "source": [
    "# import libraries & setup plotting constants\n",
    "import numpy as np\n",
    "import pandas as pd\n",
    "import matplotlib.pyplot as plt \n",
    "from matplotlib.colors import ListedColormap\n",
    "from astropy.table import Table, Column"
   ]
  },
  {
   "cell_type": "code",
   "execution_count": 50,
   "metadata": {},
   "outputs": [],
   "source": [
    "#Results from the Polinomial Fit Model\n",
    "\n",
    "rows = ['No Regularization (1)','No Regularization (2)','No Regularization (3)', \n",
    "        'L2 without power parameter (1)','L2 without power parameter (2)','L2 without power parameter (3)',\n",
    "        'L2 power parameter (1)','L2 power parameter (2)','L2 power parameter (3)',\n",
    "        'L1 without power parameter (1)', 'L1 without power parameter (2)','L1 without power parameter (3)',\n",
    "        'L1 power parameter (1)','L1 power parameter (2)','L1 power parameter (3)']\n",
    "\n",
    "#Lambda values for different cases in order\n",
    "Lambda = ['None','None','None',(1/500),0.99999,0.555,(1/500),0.00001,0.000000000001,(1/500),(1/100000000000000000),\n",
    "          0.777,0.002,0.00001,0.000000000001]\n",
    "#Learning rates\n",
    "Learn_Rate = [0.5,0.7,0.9,0.5,0.5,0.8,0.5,0.9,0.1,0.5,0.9,0.3,0.5,0.9,0.9]\n",
    "#Number of iterations\n",
    "Iterations = [3000,3500,5000,3000,3000,4000,3000,4500,7000,3000,5000,2000,3000,4500,5000]\n",
    "#Training Error\n",
    "TrainE = [0.136996886511,0.1369710095,0.136960652097,0.137812177947,0.197384096984, 0.189199023174,\n",
    "          0.131662726862,0.129906251289,0.130166306643,0.130711228214, 0.12988984528,4.7449803408,\n",
    "          0.197772178586,0.129907135117,0.129889845281]\n",
    "#Testing Error\n",
    "TestE = [0.131734742408,0.131676358511,0.131686836705,0.132129443757,0.205086065044, \n",
    "         0.196238610679,0.134804637197,0.133894640001,0.134097878362,0.135701474133,0.133913446094,\n",
    "         4.94071196969,0.205061992069,0.133962045628,0.133913446099]\n",
    "\n",
    "#Table of Results\n",
    "table = Table([rows, Lambda, Learn_Rate, Iterations,TrainE, TestE], \n",
    "              names =('Case','Lambda','Learn Rate', 'Iterations','Train rms Error', 'Test rms Error'))"
   ]
  },
  {
   "cell_type": "markdown",
   "metadata": {},
   "source": [
    "# Table of Results"
   ]
  },
  {
   "cell_type": "code",
   "execution_count": 48,
   "metadata": {},
   "outputs": [
    {
     "data": {
      "text/html": [
       "&lt;Table length=15&gt;\n",
       "<table id=\"table3082437221120\" class=\"table-striped table-bordered table-condensed\">\n",
       "<thead><tr><th>Case</th><th>Lambda</th><th>Learn Rate</th><th>Iterations</th><th>Train rms Error</th><th>Test rms Error</th></tr></thead>\n",
       "<thead><tr><th>str30</th><th>str7</th><th>float64</th><th>int32</th><th>float64</th><th>float64</th></tr></thead>\n",
       "<tr><td>No Regularization (1)</td><td>None</td><td>0.5</td><td>3000</td><td>0.136996886511</td><td>0.131734742408</td></tr>\n",
       "<tr><td>No Regularization (2)</td><td>None</td><td>0.7</td><td>3500</td><td>0.1369710095</td><td>0.131676358511</td></tr>\n",
       "<tr><td>No Regularization (3)</td><td>None</td><td>0.9</td><td>5000</td><td>0.136960652097</td><td>0.131686836705</td></tr>\n",
       "<tr><td>L2 without power parameter (1)</td><td>0.002</td><td>0.5</td><td>3000</td><td>0.137812177947</td><td>0.132129443757</td></tr>\n",
       "<tr><td>L2 without power parameter (2)</td><td>0.99999</td><td>0.5</td><td>3000</td><td>0.197384096984</td><td>0.205086065044</td></tr>\n",
       "<tr><td>L2 without power parameter (3)</td><td>0.555</td><td>0.8</td><td>4000</td><td>0.189199023174</td><td>0.196238610679</td></tr>\n",
       "<tr><td>L2 power parameter (1)</td><td>0.002</td><td>0.5</td><td>3000</td><td>0.131662726862</td><td>0.134804637197</td></tr>\n",
       "<tr><td>L2 power parameter (2)</td><td>1e-05</td><td>0.9</td><td>4500</td><td>0.129906251289</td><td>0.133894640001</td></tr>\n",
       "<tr><td>L2 power parameter (3)</td><td>1e-12</td><td>0.1</td><td>7000</td><td>0.130166306643</td><td>0.134097878362</td></tr>\n",
       "<tr><td>L1 without power parameter (1)</td><td>0.002</td><td>0.5</td><td>3000</td><td>0.130711228214</td><td>0.135701474133</td></tr>\n",
       "<tr><td>L1 without power parameter (2)</td><td>1e-17</td><td>0.9</td><td>5000</td><td>0.12988984528</td><td>0.133913446094</td></tr>\n",
       "<tr><td>L1 without power parameter (3)</td><td>0.777</td><td>0.3</td><td>2000</td><td>4.7449803408</td><td>4.94071196969</td></tr>\n",
       "<tr><td>L1 power parameter (1)</td><td>0.002</td><td>0.5</td><td>3000</td><td>0.197772178586</td><td>0.205061992069</td></tr>\n",
       "<tr><td>L1 power parameter (2)</td><td>1e-05</td><td>0.9</td><td>4500</td><td>0.129907135117</td><td>0.133962045628</td></tr>\n",
       "<tr><td>L1 power parameter (3)</td><td>1e-12</td><td>0.9</td><td>5000</td><td>0.129889845281</td><td>0.133913446099</td></tr>\n",
       "</table>"
      ],
      "text/plain": [
       "<Table length=15>\n",
       "             Case               Lambda ... Train rms Error Test rms Error\n",
       "            str30                str7  ...     float64        float64    \n",
       "------------------------------ ------- ... --------------- --------------\n",
       "         No Regularization (1)    None ...  0.136996886511 0.131734742408\n",
       "         No Regularization (2)    None ...    0.1369710095 0.131676358511\n",
       "         No Regularization (3)    None ...  0.136960652097 0.131686836705\n",
       "L2 without power parameter (1)   0.002 ...  0.137812177947 0.132129443757\n",
       "L2 without power parameter (2) 0.99999 ...  0.197384096984 0.205086065044\n",
       "L2 without power parameter (3)   0.555 ...  0.189199023174 0.196238610679\n",
       "        L2 power parameter (1)   0.002 ...  0.131662726862 0.134804637197\n",
       "        L2 power parameter (2)   1e-05 ...  0.129906251289 0.133894640001\n",
       "        L2 power parameter (3)   1e-12 ...  0.130166306643 0.134097878362\n",
       "L1 without power parameter (1)   0.002 ...  0.130711228214 0.135701474133\n",
       "L1 without power parameter (2)   1e-17 ...   0.12988984528 0.133913446094\n",
       "L1 without power parameter (3)   0.777 ...    4.7449803408  4.94071196969\n",
       "        L1 power parameter (1)   0.002 ...  0.197772178586 0.205061992069\n",
       "        L1 power parameter (2)   1e-05 ...  0.129907135117 0.133962045628\n",
       "        L1 power parameter (3)   1e-12 ...  0.129889845281 0.133913446099"
      ]
     },
     "execution_count": 48,
     "metadata": {},
     "output_type": "execute_result"
    }
   ],
   "source": [
    "table"
   ]
  },
  {
   "cell_type": "code",
   "execution_count": null,
   "metadata": {
    "collapsed": true
   },
   "outputs": [],
   "source": []
  }
 ],
 "metadata": {
  "kernelspec": {
   "display_name": "Python 3",
   "language": "python",
   "name": "python3"
  },
  "language_info": {
   "codemirror_mode": {
    "name": "ipython",
    "version": 3
   },
   "file_extension": ".py",
   "mimetype": "text/x-python",
   "name": "python",
   "nbconvert_exporter": "python",
   "pygments_lexer": "ipython3",
   "version": "3.6.1"
  }
 },
 "nbformat": 4,
 "nbformat_minor": 2
}
